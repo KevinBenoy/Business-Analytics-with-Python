{
  "nbformat": 4,
  "nbformat_minor": 0,
  "metadata": {
    "colab": {
      "name": "PythonBasics.ipynb",
      "provenance": []
    },
    "kernelspec": {
      "name": "python3",
      "display_name": "Python 3"
    },
    "language_info": {
      "name": "python"
    }
  },
  "cells": [
    {
      "cell_type": "code",
      "source": [
        "x=int(input(\"enter a number:\"))\n",
        "y=int(input(\"enter another number:\"))\n",
        "\n"
      ],
      "metadata": {
        "id": "yDpGtN6_SVbU"
      },
      "execution_count": 47,
      "outputs": []
    }
  ]
}