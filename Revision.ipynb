{
  "nbformat": 4,
  "nbformat_minor": 0,
  "metadata": {
    "colab": {
      "provenance": [],
      "authorship_tag": "ABX9TyNyQWVo+xFNiDZd755xeouU"
    },
    "kernelspec": {
      "name": "python3",
      "display_name": "Python 3"
    },
    "language_info": {
      "name": "python"
    }
  },
  "cells": [
    {
      "cell_type": "code",
      "execution_count": 7,
      "metadata": {
        "colab": {
          "base_uri": "https://localhost:8080/"
        },
        "id": "14_xObyGw65V",
        "outputId": "34e43fbe-fa5a-4960-9897-e8f39f28bed6"
      },
      "outputs": [
        {
          "output_type": "stream",
          "name": "stdout",
          "text": [
            "This is \"Python\" programming\n"
          ]
        }
      ],
      "source": [
        "x=\"This is \\\"Python\\\" programming\"\n",
        "print(x)"
      ]
    },
    {
      "cell_type": "code",
      "source": [
        "y='He\\'s a Doctor'\n",
        "print(y)"
      ],
      "metadata": {
        "colab": {
          "base_uri": "https://localhost:8080/"
        },
        "id": "pDyOWIXfxUot",
        "outputId": "3aa128ce-290f-4047-8e75-a8120d09ae47"
      },
      "execution_count": 22,
      "outputs": [
        {
          "output_type": "stream",
          "name": "stdout",
          "text": [
            "He's a Doctor\n"
          ]
        }
      ]
    },
    {
      "cell_type": "code",
      "source": [
        "z=\"Kevin\\nBenoy\"\n",
        "print(z)"
      ],
      "metadata": {
        "colab": {
          "base_uri": "https://localhost:8080/"
        },
        "id": "RLqHa8U3x7ZO",
        "outputId": "dd3c3998-70cd-4fb7-f677-4a6fd21a2556"
      },
      "execution_count": 23,
      "outputs": [
        {
          "output_type": "stream",
          "name": "stdout",
          "text": [
            "Kevin\n",
            "Benoy\n"
          ]
        }
      ]
    },
    {
      "cell_type": "code",
      "source": [
        "t=\"Hello\\tworld\"\n",
        "print(t)"
      ],
      "metadata": {
        "colab": {
          "base_uri": "https://localhost:8080/"
        },
        "id": "dwhB5Gp2yQGj",
        "outputId": "6fdc7ebd-bfdc-4160-cd39-165a7f445264"
      },
      "execution_count": 20,
      "outputs": [
        {
          "output_type": "stream",
          "name": "stdout",
          "text": [
            "Hello\tworld\n"
          ]
        }
      ]
    },
    {
      "cell_type": "code",
      "source": [
        "print(\"\\\"Kevin\\\" Benoy\")"
      ],
      "metadata": {
        "colab": {
          "base_uri": "https://localhost:8080/"
        },
        "id": "Ejv7qG9pyn3U",
        "outputId": "16f3e75b-81da-4347-931b-893a9f1bfe4a"
      },
      "execution_count": 21,
      "outputs": [
        {
          "output_type": "stream",
          "name": "stdout",
          "text": [
            "\"Kevin\" Benoy\n"
          ]
        }
      ]
    },
    {
      "cell_type": "code",
      "source": [
        "x=['John','Mary','David','Adam']\n",
        "print(x)\n",
        "i=int(input(\"Enter an index number: \"))\n",
        "n=input(\"Enter a name to insert: \")\n",
        "x.insert(i,n)\n",
        "print(x)"
      ],
      "metadata": {
        "colab": {
          "base_uri": "https://localhost:8080/"
        },
        "id": "-bGBwos1zxm1",
        "outputId": "dfabd677-bd52-4106-8ec9-61bafc2f99b5"
      },
      "execution_count": 29,
      "outputs": [
        {
          "output_type": "stream",
          "name": "stdout",
          "text": [
            "['John', 'Mary', 'David', 'Adam']\n",
            "Enter an index number: 3\n",
            "Enter a name to insert: James\n",
            "['John', 'Mary', 'David', 'James', 'Adam']\n"
          ]
        }
      ]
    },
    {
      "cell_type": "code",
      "source": [
        "x=['John','Mary','David','Adam']\n",
        "def kev():\n",
        "  x=['John','Mary','David','Adam']\n",
        "  i=int(input(\"Enter an index: \"))\n",
        "  n=input(\"Enter a name to insert: \")\n",
        "  x.insert(i,n)\n",
        "  print(x)\n",
        "kev()"
      ],
      "metadata": {
        "colab": {
          "base_uri": "https://localhost:8080/"
        },
        "id": "M_CFAEhc-qmx",
        "outputId": "2ecd4f3b-aaf7-42e7-f78c-2231c10d8e8c"
      },
      "execution_count": 9,
      "outputs": [
        {
          "output_type": "stream",
          "name": "stdout",
          "text": [
            "Enter an index: 2\n",
            "Enter a name to insert: xvcxv\n",
            "['John', 'Mary', 'xvcxv', 'David', 'Adam']\n"
          ]
        }
      ]
    },
    {
      "cell_type": "code",
      "source": [
        "def sum(a,b):\n",
        "  print(a+b)\n",
        "def diff(a,b):\n",
        "  print(a-b)\n",
        "def prod(a,b):\n",
        "  print(a*b)\n",
        "def quot(a,b):\n",
        "  print(a/b)"
      ],
      "metadata": {
        "id": "KIPsEgfxFWgB"
      },
      "execution_count": 30,
      "outputs": []
    },
    {
      "cell_type": "code",
      "source": [
        "x=int(input(\"Enter a number: \"))\n",
        "y=int(input(\"Enter a number: \"))\n",
        "sum(x,y)\n",
        "diff(x,y)\n",
        "prod(x,y)\n",
        "quot(x,y)"
      ],
      "metadata": {
        "colab": {
          "base_uri": "https://localhost:8080/"
        },
        "id": "g0FXuFKe_BoQ",
        "outputId": "f3cca98a-6ac1-4d4c-8c3e-311404b732d9"
      },
      "execution_count": 34,
      "outputs": [
        {
          "output_type": "stream",
          "name": "stdout",
          "text": [
            "Enter a number: 3453\n",
            "Enter a number: 32\n",
            "3485\n",
            "3421\n",
            "110496\n",
            "107.90625\n"
          ]
        }
      ]
    },
    {
      "cell_type": "code",
      "source": [],
      "metadata": {
        "id": "0ZcguZvNIZfh"
      },
      "execution_count": null,
      "outputs": []
    }
  ]
}