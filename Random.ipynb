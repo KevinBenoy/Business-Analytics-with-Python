{
  "nbformat": 4,
  "nbformat_minor": 0,
  "metadata": {
    "colab": {
      "provenance": [],
      "authorship_tag": "ABX9TyNtwYMcUNSMfb1yuUIsnZlK"
    },
    "kernelspec": {
      "name": "python3",
      "display_name": "Python 3"
    },
    "language_info": {
      "name": "python"
    }
  },
  "cells": [
    {
      "cell_type": "code",
      "source": [
        "def kev():\n",
        "  print(\"India\")"
      ],
      "metadata": {
        "id": "u9Od_DlxP8ZT"
      },
      "execution_count": null,
      "outputs": []
    },
    {
      "cell_type": "code",
      "source": [
        "kev()"
      ],
      "metadata": {
        "colab": {
          "base_uri": "https://localhost:8080/"
        },
        "id": "kE0PSldEQE_V",
        "outputId": "885fd264-f483-4fcc-d5d6-71c1d3408c4e"
      },
      "execution_count": null,
      "outputs": [
        {
          "output_type": "stream",
          "name": "stdout",
          "text": [
            "India\n"
          ]
        }
      ]
    },
    {
      "cell_type": "code",
      "source": [
        "def kevin():\n",
        "  print(\"Your roll number is\",10)"
      ],
      "metadata": {
        "id": "EmUdShERQHBh"
      },
      "execution_count": null,
      "outputs": []
    },
    {
      "cell_type": "code",
      "source": [
        "kevin()"
      ],
      "metadata": {
        "colab": {
          "base_uri": "https://localhost:8080/"
        },
        "id": "jauWw7EKQ1G5",
        "outputId": "39d8b0a8-ced8-4aed-ca00-f3fa969598be"
      },
      "execution_count": null,
      "outputs": [
        {
          "output_type": "stream",
          "name": "stdout",
          "text": [
            "Your roll number is 10\n"
          ]
        }
      ]
    },
    {
      "cell_type": "code",
      "source": [
        "def kev(x):\n",
        "  print(\"Your roll number is\",x)"
      ],
      "metadata": {
        "id": "cXkGvX1PQ2zv"
      },
      "execution_count": null,
      "outputs": []
    },
    {
      "cell_type": "code",
      "source": [
        "x=int(input(\"Enter your roll number:\"))\n",
        "kev(x)"
      ],
      "metadata": {
        "colab": {
          "base_uri": "https://localhost:8080/"
        },
        "id": "BAbtDgULRk8P",
        "outputId": "d3d8b55a-8cd9-4d50-c982-d1ee95699429"
      },
      "execution_count": null,
      "outputs": [
        {
          "output_type": "stream",
          "name": "stdout",
          "text": [
            "Enter your roll number:23\n",
            "Your roll number is 23\n"
          ]
        }
      ]
    },
    {
      "cell_type": "code",
      "source": [
        "def kevin(a,b,c,d):\n",
        "    print(\"Your name is\",a)\n",
        "    print(\"Your roll number is\",b)\n",
        "    print(\"Your email address is\",c)\n",
        "    print(\"Your place is\",d)"
      ],
      "metadata": {
        "id": "qXAMJsCmRvAe"
      },
      "execution_count": null,
      "outputs": []
    },
    {
      "cell_type": "code",
      "source": [
        "a=input(\"Enter your name:\")\n",
        "b=int(input(\"Enter your roll number:\"))\n",
        "c=input(\"Enter your email address:\")\n",
        "d=input(\"Enter your place:\")\n",
        "kevin(a,b,c,d)"
      ],
      "metadata": {
        "colab": {
          "base_uri": "https://localhost:8080/"
        },
        "id": "UVU2X4vMSf8M",
        "outputId": "28414b17-83d1-4a70-d4b7-31570c3116d4"
      },
      "execution_count": null,
      "outputs": [
        {
          "output_type": "stream",
          "name": "stdout",
          "text": [
            "Enter your name:Kevin\n",
            "Enter your roll number:12\n",
            "Enter your email address:23\n",
            "Enter your place:asa\n",
            "Your name is Kevin\n",
            "Your roll number is 12\n",
            "Your email address is 23\n",
            "Your place is asa\n"
          ]
        }
      ]
    },
    {
      "cell_type": "code",
      "source": [
        "def kev(x):\n",
        "  print(\"Your first name is\",x)\n",
        "def ben(y):\n",
        "  print(\"Your last name is\",y)"
      ],
      "metadata": {
        "id": "7gOq-uI2TZP_"
      },
      "execution_count": null,
      "outputs": []
    },
    {
      "cell_type": "code",
      "source": [
        "n=input(\"Enter your full name:\")\n",
        "l=len(n)\n",
        "x=\"\"\n",
        "y=\"\"\n",
        "c=0\n",
        "for i in n:\n",
        "  if i==\" \":\n",
        "    c=c+1\n",
        "    break\n",
        "  else:\n",
        "    c=c+1\n",
        "    x=x+i\n",
        "kev(x)\n",
        "for c in range (c,l):\n",
        "  y=y+n[c]\n",
        "ben(y)"
      ],
      "metadata": {
        "colab": {
          "base_uri": "https://localhost:8080/"
        },
        "id": "1OeFr5ZpUlM8",
        "outputId": "650cd337-770d-405b-9095-7f58c630014e"
      },
      "execution_count": null,
      "outputs": [
        {
          "output_type": "stream",
          "name": "stdout",
          "text": [
            "Enter your full name:Kevin Benoy\n",
            "Your first name is Kevin\n",
            "Your last name is Benoy\n"
          ]
        }
      ]
    },
    {
      "cell_type": "code",
      "source": [
        "def evensum(s):\n",
        "  s=0\n",
        "  for i in range(0,10):\n",
        "    if l[i]%2==0:\n",
        "      s=s+l[i]\n",
        "    else:\n",
        "      continue\n",
        "  print(\"The sum of even numbers in the list is:\",s)\n",
        "def oddsum(S):\n",
        "  S=0\n",
        "  for j in range(0,10):\n",
        "    if l[j]%2!=0:\n",
        "      S=S+l[j]\n",
        "    else:\n",
        "      continue\n",
        "  print(\"The sum of odd numbers in the list is:\",S)"
      ],
      "metadata": {
        "id": "qh3Di0OYdQKr"
      },
      "execution_count": 14,
      "outputs": []
    },
    {
      "cell_type": "code",
      "source": [
        "l=[21,23,34,54,65,76,78,89,9,21]\n",
        "evensum(l)\n",
        "oddsum(l)"
      ],
      "metadata": {
        "id": "-_Sw35emjaSF",
        "outputId": "2c208e94-2005-437a-c71f-867b75a0b105",
        "colab": {
          "base_uri": "https://localhost:8080/"
        }
      },
      "execution_count": 16,
      "outputs": [
        {
          "output_type": "stream",
          "name": "stdout",
          "text": [
            "The sum of even numbers in the list is: 242\n",
            "The sum of odd numbers in the list is: 228\n"
          ]
        }
      ]
    },
    {
      "cell_type": "code",
      "source": [
        "def even(s):\n",
        "  s=[]\n",
        "  c=0\n",
        "  for i in range(0,10):\n",
        "    if l[i]%2==0:\n",
        "      s.append(l[i])\n",
        "  print(\"The even list is:\",s)\n",
        "def odd(S):\n",
        "  S=[]\n",
        "  for j in range(0,10):\n",
        "    if l[j]%2!=0:\n",
        "      S.append(l[j])\n",
        "  print(\"The odd list is:\",S)"
      ],
      "metadata": {
        "id": "S-2aBE-6bFDY"
      },
      "execution_count": 29,
      "outputs": []
    },
    {
      "cell_type": "code",
      "source": [
        "l=[21,23,34,54,65,76,78,89,9,21]\n",
        "even(l)\n",
        "odd(l)"
      ],
      "metadata": {
        "id": "4brAe5tkdDku",
        "outputId": "317f8339-1a6b-4401-de71-486ae02055a2",
        "colab": {
          "base_uri": "https://localhost:8080/"
        }
      },
      "execution_count": 30,
      "outputs": [
        {
          "output_type": "stream",
          "name": "stdout",
          "text": [
            "The even list is: [34, 54, 76, 78]\n",
            "The odd list is: [21, 23, 65, 89, 9, 21]\n"
          ]
        }
      ]
    },
    {
      "cell_type": "code",
      "source": [
        "s=\"Python is a high-level, general-purpose programming language. Its design philosophy emphasizes code readability with the use of significant indentatinee\"\n",
        "print(\"String with vowels   :\",s)\n",
        "l=[]\n",
        "S=\"\"\n",
        "c=0\n",
        "for i in range(0,len(s)):\n",
        "  l.append(s[i])\n",
        "for i in range(0,len(l)):\n",
        "  if l[i]==\"e\" or l[i]==\"u\" or l[i]==\"E\" or l[i]==\"U\" or l[i]==\"a\" or l[i]==\"A\" or l[i]==\"I\" or l[i]==\"i\" or l[i]==\"o\" or l[i]==\"O\":\n",
        "    c=c+1\n",
        "for i in range(0,(len(l)+1)-(c-2)):\n",
        "  if l[i]==\"e\" or l[i]==\"u\" or l[i]==\"E\" or l[i]==\"U\" or l[i]==\"a\" or l[i]==\"A\" or l[i]==\"i\" or l[i]==\"I\" or l[i]==\"o\" or l[i]==\"O\":\n",
        "    del l[i]\n",
        "  else:\n",
        "    continue\n",
        "for i in range(0,len(l)-1):\n",
        "  S=S+l[i]\n",
        "print(\"String without vowels:\",S)\n"
      ],
      "metadata": {
        "id": "lZRNAKwedYad",
        "outputId": "1672ca9e-6db5-4627-bec7-52aea34694c3",
        "colab": {
          "base_uri": "https://localhost:8080/"
        }
      },
      "execution_count": 96,
      "outputs": [
        {
          "output_type": "stream",
          "name": "stdout",
          "text": [
            "String with vowels   : Python is a high-level, general-purpose programming language. Its design philosophy emphasizes code readability with the use of significant indentatinee\n",
            "String without vowels: Pythn s  hgh-lvl, gnrl-prps prgrmmng lngag. ts dsgn phlsphy mphszs cd radblty wth th s f sgnfcnt ndnttn\n"
          ]
        }
      ]
    },
    {
      "cell_type": "code",
      "source": [],
      "metadata": {
        "id": "qF0gSMJCojAr"
      },
      "execution_count": null,
      "outputs": []
    }
  ]
}