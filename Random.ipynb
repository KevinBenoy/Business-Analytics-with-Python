{
  "nbformat": 4,
  "nbformat_minor": 0,
  "metadata": {
    "colab": {
      "provenance": [],
      "authorship_tag": "ABX9TyMlLswZiwsV/IGGDIZFz3X7"
    },
    "kernelspec": {
      "name": "python3",
      "display_name": "Python 3"
    },
    "language_info": {
      "name": "python"
    }
  },
  "cells": [
    {
      "cell_type": "code",
      "source": [
        "def kev():\n",
        "  print(\"India\")"
      ],
      "metadata": {
        "id": "u9Od_DlxP8ZT"
      },
      "execution_count": 1,
      "outputs": []
    },
    {
      "cell_type": "code",
      "source": [
        "kev()"
      ],
      "metadata": {
        "colab": {
          "base_uri": "https://localhost:8080/"
        },
        "id": "kE0PSldEQE_V",
        "outputId": "885fd264-f483-4fcc-d5d6-71c1d3408c4e"
      },
      "execution_count": 2,
      "outputs": [
        {
          "output_type": "stream",
          "name": "stdout",
          "text": [
            "India\n"
          ]
        }
      ]
    },
    {
      "cell_type": "code",
      "source": [
        "def kevin():\n",
        "  print(\"Your roll number is\",10)"
      ],
      "metadata": {
        "id": "EmUdShERQHBh"
      },
      "execution_count": 9,
      "outputs": []
    },
    {
      "cell_type": "code",
      "source": [
        "kevin()"
      ],
      "metadata": {
        "colab": {
          "base_uri": "https://localhost:8080/"
        },
        "id": "jauWw7EKQ1G5",
        "outputId": "39d8b0a8-ced8-4aed-ca00-f3fa969598be"
      },
      "execution_count": 10,
      "outputs": [
        {
          "output_type": "stream",
          "name": "stdout",
          "text": [
            "Your roll number is 10\n"
          ]
        }
      ]
    },
    {
      "cell_type": "code",
      "source": [
        "def kev(x):\n",
        "  print(\"Your roll number is\",x)"
      ],
      "metadata": {
        "id": "cXkGvX1PQ2zv"
      },
      "execution_count": 16,
      "outputs": []
    },
    {
      "cell_type": "code",
      "source": [
        "x=int(input(\"Enter your roll number:\"))\n",
        "kev(x)"
      ],
      "metadata": {
        "colab": {
          "base_uri": "https://localhost:8080/"
        },
        "id": "BAbtDgULRk8P",
        "outputId": "d3d8b55a-8cd9-4d50-c982-d1ee95699429"
      },
      "execution_count": 17,
      "outputs": [
        {
          "output_type": "stream",
          "name": "stdout",
          "text": [
            "Enter your roll number:23\n",
            "Your roll number is 23\n"
          ]
        }
      ]
    },
    {
      "cell_type": "code",
      "source": [
        "def kevin(a,b,c,d):\n",
        "    print(\"Your name is\",a)\n",
        "    print(\"Your roll number is\",b)\n",
        "    print(\"Your email address is\",c)\n",
        "    print(\"Your place is\",d)"
      ],
      "metadata": {
        "id": "qXAMJsCmRvAe"
      },
      "execution_count": 18,
      "outputs": []
    },
    {
      "cell_type": "code",
      "source": [
        "a=input(\"Enter your name:\")\n",
        "b=int(input(\"Enter your roll number:\"))\n",
        "c=input(\"Enter your email address:\")\n",
        "d=input(\"Enter your place:\")\n",
        "kevin(a,b,c,d)"
      ],
      "metadata": {
        "colab": {
          "base_uri": "https://localhost:8080/"
        },
        "id": "UVU2X4vMSf8M",
        "outputId": "28414b17-83d1-4a70-d4b7-31570c3116d4"
      },
      "execution_count": 20,
      "outputs": [
        {
          "output_type": "stream",
          "name": "stdout",
          "text": [
            "Enter your name:Kevin\n",
            "Enter your roll number:12\n",
            "Enter your email address:23\n",
            "Enter your place:asa\n",
            "Your name is Kevin\n",
            "Your roll number is 12\n",
            "Your email address is 23\n",
            "Your place is asa\n"
          ]
        }
      ]
    },
    {
      "cell_type": "code",
      "source": [
        "def kev(x):\n",
        "  print(\"Your first name is\",x)\n",
        "def ben(y):\n",
        "  print(\"Your last name is\",y)"
      ],
      "metadata": {
        "id": "7gOq-uI2TZP_"
      },
      "execution_count": 26,
      "outputs": []
    },
    {
      "cell_type": "code",
      "source": [
        "n=input(\"Enter your full name:\")\n",
        "l=len(n)\n",
        "x=\"\"\n",
        "y=\"\"\n",
        "c=0\n",
        "for i in n:\n",
        "  if i==\" \":\n",
        "    c=c+1\n",
        "    break\n",
        "  else:\n",
        "    c=c+1\n",
        "    x=x+i\n",
        "kev(x)\n",
        "for c in range (c,l):\n",
        "  y=y+n[c]\n",
        "ben(y)"
      ],
      "metadata": {
        "colab": {
          "base_uri": "https://localhost:8080/"
        },
        "id": "1OeFr5ZpUlM8",
        "outputId": "650cd337-770d-405b-9095-7f58c630014e"
      },
      "execution_count": 67,
      "outputs": [
        {
          "output_type": "stream",
          "name": "stdout",
          "text": [
            "Enter your full name:Kevin Benoy\n",
            "Your first name is Kevin\n",
            "Your last name is Benoy\n"
          ]
        }
      ]
    },
    {
      "cell_type": "code",
      "source": [
        "def rev(s):\n",
        "  print(\"The reversed number is:\",s)"
      ],
      "metadata": {
        "id": "qh3Di0OYdQKr"
      },
      "execution_count": 73,
      "outputs": []
    },
    {
      "cell_type": "code",
      "source": [
        "m=int(input(\"Enter a number:\"))\n",
        "s=0\n",
        "while m>0:\n",
        "  r=int(m/10)\n",
        "  s=(s*10+r)/100\n",
        "rev()"
      ],
      "metadata": {
        "colab": {
          "base_uri": "https://localhost:8080/",
          "height": 252
        },
        "id": "muI_xpRciiPS",
        "outputId": "eb75218f-874a-4b50-fb3a-1f036a5426f4"
      },
      "execution_count": 79,
      "outputs": [
        {
          "name": "stdout",
          "output_type": "stream",
          "text": [
            "Enter a number:34\n"
          ]
        },
        {
          "output_type": "error",
          "ename": "KeyboardInterrupt",
          "evalue": "ignored",
          "traceback": [
            "\u001b[0;31m---------------------------------------------------------------------------\u001b[0m",
            "\u001b[0;31mKeyboardInterrupt\u001b[0m                         Traceback (most recent call last)",
            "\u001b[0;32m<ipython-input-79-37a16e1a2005>\u001b[0m in \u001b[0;36m<module>\u001b[0;34m\u001b[0m\n\u001b[1;32m      1\u001b[0m \u001b[0mm\u001b[0m\u001b[0;34m=\u001b[0m\u001b[0mint\u001b[0m\u001b[0;34m(\u001b[0m\u001b[0minput\u001b[0m\u001b[0;34m(\u001b[0m\u001b[0;34m\"Enter a number:\"\u001b[0m\u001b[0;34m)\u001b[0m\u001b[0;34m)\u001b[0m\u001b[0;34m\u001b[0m\u001b[0;34m\u001b[0m\u001b[0m\n\u001b[1;32m      2\u001b[0m \u001b[0ms\u001b[0m\u001b[0;34m=\u001b[0m\u001b[0;36m0\u001b[0m\u001b[0;34m\u001b[0m\u001b[0;34m\u001b[0m\u001b[0m\n\u001b[0;32m----> 3\u001b[0;31m \u001b[0;32mwhile\u001b[0m \u001b[0mm\u001b[0m\u001b[0;34m>\u001b[0m\u001b[0;36m0\u001b[0m\u001b[0;34m:\u001b[0m\u001b[0;34m\u001b[0m\u001b[0;34m\u001b[0m\u001b[0m\n\u001b[0m\u001b[1;32m      4\u001b[0m   \u001b[0mr\u001b[0m\u001b[0;34m=\u001b[0m\u001b[0mint\u001b[0m\u001b[0;34m(\u001b[0m\u001b[0mm\u001b[0m\u001b[0;34m/\u001b[0m\u001b[0;36m10\u001b[0m\u001b[0;34m)\u001b[0m\u001b[0;34m\u001b[0m\u001b[0;34m\u001b[0m\u001b[0m\n\u001b[1;32m      5\u001b[0m   \u001b[0ms\u001b[0m\u001b[0;34m=\u001b[0m\u001b[0;34m(\u001b[0m\u001b[0ms\u001b[0m\u001b[0;34m*\u001b[0m\u001b[0;36m10\u001b[0m\u001b[0;34m+\u001b[0m\u001b[0mr\u001b[0m\u001b[0;34m)\u001b[0m\u001b[0;34m/\u001b[0m\u001b[0;36m100\u001b[0m\u001b[0;34m\u001b[0m\u001b[0;34m\u001b[0m\u001b[0m\n",
            "\u001b[0;31mKeyboardInterrupt\u001b[0m: "
          ]
        }
      ]
    },
    {
      "cell_type": "code",
      "source": [],
      "metadata": {
        "id": "-_Sw35emjaSF"
      },
      "execution_count": null,
      "outputs": []
    }
  ]
}