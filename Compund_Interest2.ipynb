{
  "nbformat": 4,
  "nbformat_minor": 0,
  "metadata": {
    "colab": {
      "provenance": [],
      "authorship_tag": "ABX9TyMfzaXhQeqNjzE3isUTEZG6"
    },
    "kernelspec": {
      "name": "python3",
      "display_name": "Python 3"
    },
    "language_info": {
      "name": "python"
    }
  },
  "cells": [
    {
      "cell_type": "code",
      "execution_count": 1,
      "metadata": {
        "colab": {
          "base_uri": "https://localhost:8080/"
        },
        "id": "Wpb5ts62BxHY",
        "outputId": "1fc2f4eb-5a71-496c-ae0f-26da83b302e0"
      },
      "outputs": [
        {
          "name": "stdout",
          "output_type": "stream",
          "text": [
            "Enter principle balance : 8768\n",
            "Enter rate of interest : 45\n",
            "Enter number of years : 213\n"
          ]
        },
        {
          "output_type": "execute_result",
          "data": {
            "text/plain": [
              "849180.8"
            ]
          },
          "metadata": {},
          "execution_count": 1
        }
      ],
      "source": [
        "p=float(input('Enter principle balance : '))\n",
        "r=float(input('Enter rate of interest : '))\n",
        "t=float(input('Enter number of years : '))\n",
        "a=p*(1+(r/100)*t)\n",
        "a"
      ]
    },
    {
      "cell_type": "code",
      "source": [
        "n=float(input('Enter number of times interest is compounded per year : '))\n",
        "x=1+((r/100)/n)\n",
        "y=n*t\n",
        "CI=p*x**y\n",
        "CI"
      ],
      "metadata": {
        "colab": {
          "base_uri": "https://localhost:8080/"
        },
        "id": "DXjuc1lFCFOT",
        "outputId": "69fde7bb-4c87-424c-a03f-76a1d4316c81"
      },
      "execution_count": 2,
      "outputs": [
        {
          "name": "stdout",
          "output_type": "stream",
          "text": [
            "Enter number of times interest is compounded per year : 23\n"
          ]
        },
        {
          "output_type": "execute_result",
          "data": {
            "text/plain": [
              "1.4724467381770404e+45"
            ]
          },
          "metadata": {},
          "execution_count": 2
        }
      ]
    },
    {
      "cell_type": "code",
      "source": [],
      "metadata": {
        "id": "CG4OrD3dCUYy"
      },
      "execution_count": null,
      "outputs": []
    }
  ]
}