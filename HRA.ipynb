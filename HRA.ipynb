{
  "nbformat": 4,
  "nbformat_minor": 0,
  "metadata": {
    "colab": {
      "provenance": [],
      "authorship_tag": "ABX9TyNBo4C37ZBr3bwcLKA1e1BN"
    },
    "kernelspec": {
      "name": "python3",
      "display_name": "Python 3"
    },
    "language_info": {
      "name": "python"
    }
  },
  "cells": [
    {
      "cell_type": "code",
      "execution_count": 46,
      "metadata": {
        "colab": {
          "base_uri": "https://localhost:8080/"
        },
        "id": "b8Fn9a-ZPm1g",
        "outputId": "23e84702-add0-4d39-beab-477afd8bce09"
      },
      "outputs": [
        {
          "output_type": "stream",
          "name": "stdout",
          "text": [
            "Enter actual HRA received from employer(per month): 1000000\n",
            "Enter actual rent paid(per month): 800000\n",
            "Enter basic salary(per month): 1500000\n",
            "Tax payable is:  780000.0\n",
            "You are not eligible for tax\n"
          ]
        }
      ],
      "source": [
        "a=int(input(\"Enter actual HRA received from employer(per month): \"))\n",
        "b=int(input(\"Enter actual rent paid(per month): \"))\n",
        "c=int(input(\"Enter basic salary(per month): \"))\n",
        "x=a*12\n",
        "y=(b*12)-(10/100*c*12)\n",
        "z=(c*12)*50/100\n",
        "if x<=y and x<=z:\n",
        "  a1=(x+z)-(x)\n",
        "  print(\"Tax payable is: \",(10/100)*x)\n",
        "elif y<=x and y<=z:\n",
        "  a1=(x+z)-(y)\n",
        "  print(\"Tax payable is: \",(10/100)*y)\n",
        "elif z<=x and z<=y:\n",
        "  a1=(x+z)-(z)\n",
        "  print(\"Tax payable is: \",(10/100)*z)\n",
        "else:\n",
        "  print(\"Not applicable\")\n",
        "if a1>=150000:\n",
        "  a1=150000\n",
        "else:\n",
        "  a1=a1\n",
        "if a1<=250000:\n",
        "  print(\"You are not eligible for tax\")\n",
        "elif a1>=250000 and a1<=500000:\n",
        "  t=a1-250000\n",
        "  p=t*(5/100)\n",
        "  print(\"Tax amount is:\",p)\n",
        "elif a1>=500000 and a1<=750000:\n",
        "  t=a1-500000\n",
        "  p=(t*(10/100))+(t*(5/100))+12500\n",
        "  print(\"Tax amount is:\",p)\n",
        "elif a1>=750000 and a1<=1000000:\n",
        "  t=a1-750000\n",
        "  p=(t*(15/100))+(t*(10/100))+(t*(5/100))+37500\n",
        "  print(\"Tax amount is:\",p)\n",
        "elif a1>=1000000 and a1<=1250000:\n",
        "  t=a1-1000000\n",
        "  p=(t*(20/100))+(t*(15/100))+(t*(10/100))+(t*(5/100))+75000\n",
        "  print(\"Tax amount is:\",p)\n",
        "elif a1>=1250000 and a1<=1500000:\n",
        "  t=a1-1250000\n",
        "  p=(t*(25/100))+(t*(20/100))+(t*(15/100))+(t*(10/100))+(t*(5/100))+125000\n",
        "  print(\"Tax amount is:\",p)\n",
        "else:\n",
        "  t=a1-1500000\n",
        "  p=(t*(30/100))+(t*(25/100))+(t*(20/100))+(t*(15/100))+(t*(10/100))+(t*(5/100))+187500\n",
        "  print(\"Tax amount is:\",p)"
      ]
    },
    {
      "cell_type": "code",
      "source": [],
      "metadata": {
        "id": "Z2-tEKBSlFKY"
      },
      "execution_count": null,
      "outputs": []
    }
  ]
}