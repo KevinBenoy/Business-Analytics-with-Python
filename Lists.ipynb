{
  "nbformat": 4,
  "nbformat_minor": 0,
  "metadata": {
    "colab": {
      "provenance": [],
      "authorship_tag": "ABX9TyOb4CMcrfvpDMk18tSjUavM"
    },
    "kernelspec": {
      "name": "python3",
      "display_name": "Python 3"
    },
    "language_info": {
      "name": "python"
    }
  },
  "cells": [
    {
      "cell_type": "code",
      "source": [
        "x=\"Kevin Benoy\"\n",
        "len(x)"
      ],
      "metadata": {
        "colab": {
          "base_uri": "https://localhost:8080/"
        },
        "id": "BAGlZCpmsgkp",
        "outputId": "56199674-3f48-49dd-f438-0481f5d8c422"
      },
      "execution_count": 3,
      "outputs": [
        {
          "output_type": "execute_result",
          "data": {
            "text/plain": [
              "11"
            ]
          },
          "metadata": {},
          "execution_count": 3
        }
      ]
    },
    {
      "cell_type": "code",
      "source": [
        "x=[\"Kevin Benoy\",\"Mary\",\"David\",\"Adam\"]\n",
        "print(len(x[3]))\n",
        "type(x)"
      ],
      "metadata": {
        "colab": {
          "base_uri": "https://localhost:8080/"
        },
        "id": "1BAwlxG_us_u",
        "outputId": "863591af-749c-4714-9fb2-e74d23510023"
      },
      "execution_count": 7,
      "outputs": [
        {
          "output_type": "stream",
          "name": "stdout",
          "text": [
            "4\n"
          ]
        },
        {
          "output_type": "execute_result",
          "data": {
            "text/plain": [
              "list"
            ]
          },
          "metadata": {},
          "execution_count": 7
        }
      ]
    },
    {
      "cell_type": "code",
      "source": [
        "l=[9071,\"Kevin Benoy\",19,\"19-05-2003\",\"Nemmara\"]\n",
        "print(l)\n",
        "type(l)"
      ],
      "metadata": {
        "colab": {
          "base_uri": "https://localhost:8080/"
        },
        "id": "GEAGAVcwvm_i",
        "outputId": "28c15310-6193-4498-c759-54315a7d66af"
      },
      "execution_count": 12,
      "outputs": [
        {
          "output_type": "stream",
          "name": "stdout",
          "text": [
            "[9071, 'Kevin Benoy', 19, '19-05-2003', 'Nemmara']\n"
          ]
        },
        {
          "output_type": "execute_result",
          "data": {
            "text/plain": [
              "list"
            ]
          },
          "metadata": {},
          "execution_count": 12
        }
      ]
    },
    {
      "cell_type": "code",
      "source": [
        "l[-1]"
      ],
      "metadata": {
        "colab": {
          "base_uri": "https://localhost:8080/",
          "height": 35
        },
        "id": "5AIAftU6wXYi",
        "outputId": "65aaa6a2-3b9e-4cf2-f4b6-6dc6355ac4d4"
      },
      "execution_count": 13,
      "outputs": [
        {
          "output_type": "execute_result",
          "data": {
            "text/plain": [
              "'Nemmara'"
            ],
            "application/vnd.google.colaboratory.intrinsic+json": {
              "type": "string"
            }
          },
          "metadata": {},
          "execution_count": 13
        }
      ]
    },
    {
      "cell_type": "code",
      "source": [
        "a=[12,34,56,78,90,23,45,67,89,1]"
      ],
      "metadata": {
        "id": "uITgsyp-w0tB"
      },
      "execution_count": 15,
      "outputs": []
    },
    {
      "cell_type": "code",
      "source": [
        "a[-3:]"
      ],
      "metadata": {
        "colab": {
          "base_uri": "https://localhost:8080/"
        },
        "id": "UpetrajMx4ff",
        "outputId": "cddc7919-8ac5-4aa1-88e7-f97a4a4a0344"
      },
      "execution_count": 39,
      "outputs": [
        {
          "output_type": "execute_result",
          "data": {
            "text/plain": [
              "[67, 89, 1]"
            ]
          },
          "metadata": {},
          "execution_count": 39
        }
      ]
    },
    {
      "cell_type": "code",
      "source": [
        "a[7:]"
      ],
      "metadata": {
        "colab": {
          "base_uri": "https://localhost:8080/"
        },
        "id": "bNU3BV_XzcdH",
        "outputId": "87b200d2-0161-47d6-ee8a-df8abbb20a92"
      },
      "execution_count": 40,
      "outputs": [
        {
          "output_type": "execute_result",
          "data": {
            "text/plain": [
              "[67, 89, 1]"
            ]
          },
          "metadata": {},
          "execution_count": 40
        }
      ]
    },
    {
      "cell_type": "code",
      "source": [
        "a[1]=21\n",
        "a"
      ],
      "metadata": {
        "colab": {
          "base_uri": "https://localhost:8080/"
        },
        "id": "vKrBYpjn0Ps5",
        "outputId": "f2729ea8-5151-48d1-d6a9-e50f88d339fe"
      },
      "execution_count": 47,
      "outputs": [
        {
          "output_type": "execute_result",
          "data": {
            "text/plain": [
              "[12, 21, 56, 78, 90, 23, 45, 67, 89, 1]"
            ]
          },
          "metadata": {},
          "execution_count": 47
        }
      ]
    },
    {
      "cell_type": "code",
      "source": [
        "l[4]=\"Rajagiri\"\n",
        "l"
      ],
      "metadata": {
        "colab": {
          "base_uri": "https://localhost:8080/"
        },
        "id": "ncrWF5TP03Mn",
        "outputId": "3ce83539-4f19-4eed-d2c4-995d057e8713"
      },
      "execution_count": 49,
      "outputs": [
        {
          "output_type": "execute_result",
          "data": {
            "text/plain": [
              "[9071, 'Kevin Benoy', 19, '19-05-2003', 'Rajagiri']"
            ]
          },
          "metadata": {},
          "execution_count": 49
        }
      ]
    },
    {
      "cell_type": "code",
      "source": [
        "a.append(12)"
      ],
      "metadata": {
        "id": "6NyKVzm_1cJn"
      },
      "execution_count": 50,
      "outputs": []
    },
    {
      "cell_type": "code",
      "source": [
        "a"
      ],
      "metadata": {
        "colab": {
          "base_uri": "https://localhost:8080/"
        },
        "id": "lXa7Morh3Xc3",
        "outputId": "266f91ed-e9c2-4409-e9bd-8426facfbfe0"
      },
      "execution_count": 51,
      "outputs": [
        {
          "output_type": "execute_result",
          "data": {
            "text/plain": [
              "[12, 21, 56, 78, 90, 23, 45, 67, 89, 1, 12]"
            ]
          },
          "metadata": {},
          "execution_count": 51
        }
      ]
    },
    {
      "cell_type": "code",
      "source": [
        "s=input(\"Enter a name:\")\n",
        "y=[]\n",
        "y.append(s)\n",
        "for i in range(3):\n",
        "  s=input(\"Enter another name:\")\n",
        "  y.append(s)\n",
        "print(y)"
      ],
      "metadata": {
        "colab": {
          "base_uri": "https://localhost:8080/"
        },
        "id": "cEfwXU8q3YAn",
        "outputId": "72732480-ba94-41a7-f2dd-64ed1f846217"
      },
      "execution_count": 55,
      "outputs": [
        {
          "output_type": "stream",
          "name": "stdout",
          "text": [
            "Enter a name:ty\n",
            "Enter another name:rty\n",
            "Enter another name:rty\n",
            "Enter another name:\n",
            "['ty', 'rty', 'rty', '']\n"
          ]
        }
      ]
    },
    {
      "cell_type": "code",
      "source": [
        "s=input(\"Enter a name: \")\n",
        "y=[]\n",
        "y.append(s)\n",
        "i=0\n",
        "while i<3:\n",
        "  s=input(\"Enter another name: \")\n",
        "  y.append(s)\n",
        "  i=i+1\n",
        "print(y)"
      ],
      "metadata": {
        "colab": {
          "base_uri": "https://localhost:8080/"
        },
        "id": "RleMgYNn4Kpb",
        "outputId": "a0f5996e-8414-4d95-850a-cb20ea688b2b"
      },
      "execution_count": 57,
      "outputs": [
        {
          "output_type": "stream",
          "name": "stdout",
          "text": [
            "Enter a name: sdfdg\n",
            "Enter another name: vbcb\n",
            "Enter another name: qweq\n",
            "Enter another name: oio\n",
            "['sdfdg', 'vbcb', 'qweq', 'oio']\n"
          ]
        }
      ]
    },
    {
      "cell_type": "code",
      "source": [
        "x=[34,454]\n",
        "y=x.copy()\n",
        "y"
      ],
      "metadata": {
        "colab": {
          "base_uri": "https://localhost:8080/"
        },
        "id": "i8AkuHu87Rms",
        "outputId": "ce9e225a-ff50-4aa3-8bdf-101555dde614"
      },
      "execution_count": 75,
      "outputs": [
        {
          "output_type": "execute_result",
          "data": {
            "text/plain": [
              "[34, 454]"
            ]
          },
          "metadata": {},
          "execution_count": 75
        }
      ]
    },
    {
      "cell_type": "code",
      "source": [
        "x.append(y)"
      ],
      "metadata": {
        "id": "lnWVOY-F9MZp"
      },
      "execution_count": 76,
      "outputs": []
    },
    {
      "cell_type": "code",
      "source": [
        "x"
      ],
      "metadata": {
        "colab": {
          "base_uri": "https://localhost:8080/"
        },
        "id": "WK5451Kk-XXN",
        "outputId": "369e4c68-710f-4ac3-9681-3c1168f3b381"
      },
      "execution_count": 79,
      "outputs": [
        {
          "output_type": "execute_result",
          "data": {
            "text/plain": [
              "[34, 454, [34, 454]]"
            ]
          },
          "metadata": {},
          "execution_count": 79
        }
      ]
    },
    {
      "cell_type": "code",
      "source": [
        "y"
      ],
      "metadata": {
        "colab": {
          "base_uri": "https://localhost:8080/"
        },
        "id": "Za1X-JsN-Ymr",
        "outputId": "403cf146-ada4-4d6b-aaff-2cd06f6811ee"
      },
      "execution_count": 78,
      "outputs": [
        {
          "output_type": "execute_result",
          "data": {
            "text/plain": [
              "[34, 454]"
            ]
          },
          "metadata": {},
          "execution_count": 78
        }
      ]
    },
    {
      "cell_type": "code",
      "source": [
        "x[2]"
      ],
      "metadata": {
        "colab": {
          "base_uri": "https://localhost:8080/"
        },
        "id": "CJ00fX0Z-ilv",
        "outputId": "44578cb2-e066-486d-bf19-18fe8b8a9d49"
      },
      "execution_count": 80,
      "outputs": [
        {
          "output_type": "execute_result",
          "data": {
            "text/plain": [
              "[34, 454]"
            ]
          },
          "metadata": {},
          "execution_count": 80
        }
      ]
    },
    {
      "cell_type": "code",
      "source": [
        "len(x)"
      ],
      "metadata": {
        "colab": {
          "base_uri": "https://localhost:8080/"
        },
        "id": "wLBV07FC-2Rc",
        "outputId": "d258b5de-adf9-48a0-ae77-69d6c60702af"
      },
      "execution_count": 81,
      "outputs": [
        {
          "output_type": "execute_result",
          "data": {
            "text/plain": [
              "3"
            ]
          },
          "metadata": {},
          "execution_count": 81
        }
      ]
    },
    {
      "cell_type": "code",
      "source": [
        "x.count(34)"
      ],
      "metadata": {
        "colab": {
          "base_uri": "https://localhost:8080/"
        },
        "id": "tbGIyBl9-42a",
        "outputId": "832009a2-9589-422d-9110-6bc93a538089"
      },
      "execution_count": 82,
      "outputs": [
        {
          "output_type": "execute_result",
          "data": {
            "text/plain": [
              "1"
            ]
          },
          "metadata": {},
          "execution_count": 82
        }
      ]
    },
    {
      "cell_type": "code",
      "source": [
        "z=[\"dfg\",\"DFGfx\",\"dfgdfxgx\",\"dfGXDfg\"]\n",
        "z[2:2]=[\"sdfdf\"]\n",
        "z"
      ],
      "metadata": {
        "colab": {
          "base_uri": "https://localhost:8080/"
        },
        "id": "KjaG6lFL_bSh",
        "outputId": "35c64350-9e84-46cc-954b-44c5a16f6be7"
      },
      "execution_count": 142,
      "outputs": [
        {
          "output_type": "execute_result",
          "data": {
            "text/plain": [
              "['dfg', 'DFGfx', 'sdfdf', 'dfgdfxgx', 'dfGXDfg']"
            ]
          },
          "metadata": {},
          "execution_count": 142
        }
      ]
    },
    {
      "cell_type": "code",
      "source": [
        "z[1:2]=[\"abcd\",\"bnvn\"]\n",
        "z"
      ],
      "metadata": {
        "colab": {
          "base_uri": "https://localhost:8080/"
        },
        "id": "cNJ5ffM_BN8s",
        "outputId": "c5c60f1e-5219-4caa-efef-ded716042bc9"
      },
      "execution_count": 111,
      "outputs": [
        {
          "output_type": "execute_result",
          "data": {
            "text/plain": [
              "['dfg', 'abcd', 'bnvn', 'sdfdf', 'dfgdfxgx', 'dfGXDfg']"
            ]
          },
          "metadata": {},
          "execution_count": 111
        }
      ]
    },
    {
      "cell_type": "code",
      "source": [
        "z.insert(2,\"yuyi\")\n",
        "z"
      ],
      "metadata": {
        "colab": {
          "base_uri": "https://localhost:8080/"
        },
        "id": "pdmGhH_VARTZ",
        "outputId": "8e978862-c6ca-4097-8f04-5764a30021e6"
      },
      "execution_count": 140,
      "outputs": [
        {
          "output_type": "execute_result",
          "data": {
            "text/plain": [
              "['yuyi', 'yuyi']"
            ]
          },
          "metadata": {},
          "execution_count": 140
        }
      ]
    },
    {
      "cell_type": "code",
      "source": [
        "z.remove(\"yuyi\")\n",
        "z"
      ],
      "metadata": {
        "colab": {
          "base_uri": "https://localhost:8080/"
        },
        "id": "GaOTt2EBB3Tb",
        "outputId": "465c57c8-c638-4cd6-9869-8304abd6b65a"
      },
      "execution_count": 120,
      "outputs": [
        {
          "output_type": "execute_result",
          "data": {
            "text/plain": [
              "['dfg', 'abcd', 'bnvn', 'sdfdf', 'dfgdfxgx', 'dfGXDfg']"
            ]
          },
          "metadata": {},
          "execution_count": 120
        }
      ]
    },
    {
      "cell_type": "code",
      "source": [
        "z.pop(0)\n",
        "z"
      ],
      "metadata": {
        "colab": {
          "base_uri": "https://localhost:8080/"
        },
        "id": "2qvKWRxhCkvg",
        "outputId": "f97f2130-97f2-4ef7-b2fb-e0cbe63cad84"
      },
      "execution_count": 130,
      "outputs": [
        {
          "output_type": "execute_result",
          "data": {
            "text/plain": [
              "['dfgdfxgx', 'dfGXDfg']"
            ]
          },
          "metadata": {},
          "execution_count": 130
        }
      ]
    },
    {
      "cell_type": "code",
      "source": [
        "z=[\"dfg\",\"DFGfx\",\"dfgdfxgx\",\"dfGXDfg\"]\n",
        "z"
      ],
      "metadata": {
        "colab": {
          "base_uri": "https://localhost:8080/"
        },
        "id": "WKu9QtDMDOk_",
        "outputId": "04957156-6ecc-4b50-dc13-165e4b397bf8"
      },
      "execution_count": 145,
      "outputs": [
        {
          "output_type": "execute_result",
          "data": {
            "text/plain": [
              "['dfg', 'DFGfx', 'dfgdfxgx', 'dfGXDfg']"
            ]
          },
          "metadata": {},
          "execution_count": 145
        }
      ]
    },
    {
      "cell_type": "code",
      "source": [
        "del z[-3:-1]\n",
        "z"
      ],
      "metadata": {
        "colab": {
          "base_uri": "https://localhost:8080/"
        },
        "id": "T0BzcbITC2Zf",
        "outputId": "de01621e-05e2-4635-9b8e-da5a6594e272"
      },
      "execution_count": 147,
      "outputs": [
        {
          "output_type": "execute_result",
          "data": {
            "text/plain": [
              "['dfGXDfg']"
            ]
          },
          "metadata": {},
          "execution_count": 147
        }
      ]
    },
    {
      "cell_type": "code",
      "source": [],
      "metadata": {
        "id": "aNHi3acPDVqg"
      },
      "execution_count": null,
      "outputs": []
    }
  ]
}